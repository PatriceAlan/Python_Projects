{
 "cells": [
  {
   "cell_type": "code",
   "execution_count": 1,
   "metadata": {},
   "outputs": [
    {
     "data": {
      "text/plain": [
       "'The area of the circle is : 3.8013271108436504'"
      ]
     },
     "execution_count": 1,
     "metadata": {},
     "output_type": "execute_result"
    }
   ],
   "source": [
    "# Area of a circle\n",
    "from math import pi\n",
    "def areacircle():\n",
    "    r = float(input(\"Enter a value for the radius: \"))\n",
    "    A = pi*r*r\n",
    "    return (f\"The area of the circle is : {A}\")\n",
    "\n",
    "areacircle()"
   ]
  },
  {
   "cell_type": "code",
   "execution_count": 3,
   "metadata": {},
   "outputs": [
    {
     "name": "stdout",
     "output_type": "stream",
     "text": [
      "Your first name and last name in reversed order are Lucie\tJenkins\n"
     ]
    }
   ],
   "source": [
    "# name reverse order\n",
    "name1 = input(\"Enter your first name: \")\n",
    "name2 = input(\"Enter your last name: \")\n",
    "print(f\"Your first name and last name in reversed order are {name2}\\t{name1}\")\n"
   ]
  },
  {
   "cell_type": "code",
   "execution_count": 17,
   "metadata": {},
   "outputs": [
    {
     "name": "stdout",
     "output_type": "stream",
     "text": [
      "List:[56, 98, 98]\n",
      " Tuple:(56, 98, 98)\n"
     ]
    }
   ],
   "source": [
    "#generate lists and tuples of numbers from user inputs\n",
    "numbers = []\n",
    "numbers_ = ()\n",
    "while True:\n",
    "    n = input(\"Enter a number: \")\n",
    "    numbers.append(int(n))\n",
    "    numbers_ = tuple(numbers)\n",
    "    if len(numbers) == 4:\n",
    "        break\n",
    "print(f\"List: {numbers}\\n Tuple: {numbers_}\")\n"
   ]
  }
 ],
 "metadata": {
  "kernelspec": {
   "display_name": "Python 3",
   "language": "python",
   "name": "python3"
  },
  "language_info": {
   "codemirror_mode": {
    "name": "ipython",
    "version": 3
   },
   "file_extension": ".py",
   "mimetype": "text/x-python",
   "name": "python",
   "nbconvert_exporter": "python",
   "pygments_lexer": "ipython3",
   "version": "3.10.9"
  },
  "orig_nbformat": 4,
  "vscode": {
   "interpreter": {
    "hash": "bc6d1b870d043f73b1b33b4552ddc6e8102e1e96a34b64d61c2401e0dc98f3fc"
   }
  }
 },
 "nbformat": 4,
 "nbformat_minor": 2
}
